{
 "cells": [
  {
   "cell_type": "code",
   "execution_count": 66,
   "id": "b74fa1a6",
   "metadata": {},
   "outputs": [
    {
     "name": "stdout",
     "output_type": "stream",
     "text": [
      "no no no, maybe, yes yes\n"
     ]
    },
    {
     "data": {
      "text/plain": [
       "27"
      ]
     },
     "execution_count": 66,
     "metadata": {},
     "output_type": "execute_result"
    }
   ],
   "source": [
    "dataFile = open(r\"Data\\data.csv\", \"r\")\n",
    "trainingdataFile = open(r\"Data\\trainingdata.json\", \"a+\")\n",
    "\n",
    "def removeComma(*items): \n",
    "    stat = ''\n",
    "    for item in items:\n",
    "        if stat:\n",
    "            stat = stat + ', ' + ''.join(item.split(','))\n",
    "        else:\n",
    "            stat = ''.join(item.split(','))\n",
    "    return stat\n",
    "\n",
    "line = dataFile.readline()\n",
    "example1 = 'no, no, no'\n",
    "example2 = 'maybe'\n",
    "example3 = 'yes, yes'\n",
    "print(removeComma(example1, example2, example3))\n",
    "trainingdataFile.write(removeComma('\\n',example1, example2, example3))"
   ]
  },
  {
   "cell_type": "code",
   "execution_count": null,
   "id": "7c67a0c5",
   "metadata": {},
   "outputs": [],
   "source": []
  }
 ],
 "metadata": {
  "kernelspec": {
   "display_name": "Python 3 (ipykernel)",
   "language": "python",
   "name": "python3"
  },
  "language_info": {
   "codemirror_mode": {
    "name": "ipython",
    "version": 3
   },
   "file_extension": ".py",
   "mimetype": "text/x-python",
   "name": "python",
   "nbconvert_exporter": "python",
   "pygments_lexer": "ipython3",
   "version": "3.9.13"
  }
 },
 "nbformat": 4,
 "nbformat_minor": 5
}
